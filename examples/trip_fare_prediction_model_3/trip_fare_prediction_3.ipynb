{
 "cells": [
  {
   "cell_type": "markdown",
   "id": "93f77938-7669-4c71-aabe-49ecd7316e2e",
   "metadata": {
    "tags": []
   },
   "source": [
    "***\n",
    "\n",
    "# Taxi Trip Fare Prediction - Model 3\n",
    "\n",
    "***\n",
    "\n",
    "The goal of this example is to build on the Model 2 example and add features from real-time streaming data. We will\n",
    "- add real-time window aggregate features calculated on real-time streaming data\n",
    "- train an ML model based on historical taxi trip fare data and contextual features\n",
    "- serve the ML model to predict the trip fare for new trips\n",
    "\n",
    "### Prepare your data\n",
    "\n",
    "The trip table csv file was uploaded to MySQL and connected as a data source in the Model 1 example. There is no need to redo this step.\n",
    "\n",
    "### Prepare your static contextual feature data\n",
    "\n",
    "In the Model 2 example we enhanced the data by adding three contextual feature tables. \n",
    "\n",
    "- an hourly segment table that maps an hour to an hourly_segment. \n",
    "- a holiday weekend table that maps a date to a flag indicating whether that date was a holiday-or-weekend or neither.\n",
    "- a geo area table that maps a zipcode to a type of geo area.\n",
    "\n",
    "### Prepare your real-time contextual feature data\n",
    "\n",
    "In this example we will connect to a real-time stream of trip events and add a real-time contextual feature.\n",
    "\n",
    "- the total passenger count for a zipcode within the last 4 hours\n",
    "\n",
    "The idea is that the total passenger count for all trips starting at a zipcode within the last 4 hours, indicates the recent demand at a zipcode and has an influence on the trip fare amount. We can create a more accurate ML model with this additional feature.\n",
    "\n",
    "Real-time trip events are published to a kafka stream using the trip table csv file. We will use the same trip table csv file for historical data to train the ML model as well as for real-time data when serving the ML model. First we will download the csv file and peek at a few lines of data. The data includes the pickup datetime, pickup latitude, longitude, dropoff latitude, longitude, pickup and dropoff zipcodes, passenger count and fare amount. We will download the csv using `wget` and print the first few lines using the `head` command."
   ]
  },
  {
   "cell_type": "code",
   "execution_count": null,
   "id": "899413bd-9c13-4477-8a56-4a9d9268cf9a",
   "metadata": {},
   "outputs": [],
   "source": [
    "!wget http://<wget server address>:8011/trip_table11.csv"
   ]
  },
  {
   "cell_type": "code",
   "execution_count": null,
   "id": "78b3aaf8-b052-416f-a790-fbeeb62afe16",
   "metadata": {},
   "outputs": [],
   "source": [
    "!head -n 5 trip_table11.csv"
   ]
  },
  {
   "cell_type": "markdown",
   "id": "784f4011-9e92-4d19-802c-5879ce3b57d0",
   "metadata": {
    "tags": []
   },
   "source": [
    "### Publish your real-time contextual feature data\n",
    "\n",
    "We will use kafka as the data source for the real-time trip events. We will publish trip events to a kafka broker. Use `kafka-producer-csv.py` to publish trip events from the trip table csv file to the kafka broker. This program takes each trip event from the trip_table csv file, updates the timestamps to reflect the current time and continuously publishes events to a kafka broker. It is a long running program and must be executed in the background, otherwise it will prevent other notebook cells from being executed until it completes. The `-b` option specifies the URL of the kafka broker. The `-i` option specifies the input csv file name. The `-e` option specifies the duration in minutes to publish events, the default is 15 minutes. The `-g` option obtains the kafka broker address and topic. The `-h` option displays help.\n",
    "\n",
    "Note the `kafka source meta` from the output below. It will be used later to connect the kafka topic to the Elevo platform.\n",
    "\n",
    "The second command below, that starts with an `&`, will publish trip events in the background to the kafka broker for a duration of 60 minutes."
   ]
  },
  {
   "cell_type": "code",
   "execution_count": null,
   "id": "7ce34be4-17d7-49cc-a422-09bb70f1299d",
   "metadata": {},
   "outputs": [],
   "source": [
    "!kafka-producer-csv.py -b <kafka server>:9092 -i trip_table11.csv -g"
   ]
  },
  {
   "cell_type": "code",
   "execution_count": null,
   "id": "c23642fe-cfba-40d9-a904-92e45568645c",
   "metadata": {},
   "outputs": [],
   "source": [
    "&kafka-producer-csv.py -b <kafka server>:9092 -i trip_table11.csv -e 60"
   ]
  },
  {
   "cell_type": "markdown",
   "id": "976afc32-8c6f-4e66-a4fc-819d702f7b2a",
   "metadata": {
    "jp-MarkdownHeadingCollapsed": true,
    "tags": []
   },
   "source": [
    "***\n",
    "\n",
    "**We will reuse the `trip_fare` project from Model 1 for this example.**"
   ]
  },
  {
   "cell_type": "code",
   "execution_count": null,
   "id": "775400e0-ee27-498e-9015-6ed4622c98fb",
   "metadata": {},
   "outputs": [],
   "source": [
    "set project trip_fare"
   ]
  },
  {
   "cell_type": "markdown",
   "id": "1664147e-01c5-4fd6-9ffe-1c1fffed8238",
   "metadata": {
    "tags": []
   },
   "source": [
    "***\n",
    "\n",
    "# Connect your Data Sources\n",
    "\n",
    "<html><img src=\"3_1.png\"/></html>\n",
    "\n",
    "In the Model 1 example we have connected the MySQL data source to Elevo for the trip table. In the Model 2 example we have connected the MySQL data sources to Elevo for contextual feature tables. In this step we will connect the real-time data from MySQL and kafka to Elevo. This will allow Elevo to read historical real-time data from MySQL and current real-time data from kafka."
   ]
  },
  {
   "cell_type": "markdown",
   "id": "16f0afe6-4d93-4a30-91c2-f464486c1a75",
   "metadata": {
    "tags": []
   },
   "source": [
    "### Create a Foresight ML sources file\n",
    "\n",
    "Data sources are connected to Elevo via a Foresight ML sources file. In the Model 1 and 2 examples we have created a Foresight ML sources file to connect the MySQL server to the Elevo platform. Create another Foresight ML sources file to add a kafka source. Use the templates and code snippets available at the icons to the left. Refer to the  Elevo Foresight User Manual for help.\n",
    "Alternatively you may use the Foresight ML sources file from this tutorial.\n",
    "\n",
    "**Make sure you update the Foresight ML sources file with the correct kafka broker url and topic obtained from the *\"Publish your data\"* step above.**\n",
    "<br>The relevant section in the `trip_fare_data_sources_3.yml` file looks like this:\n",
    "    \n",
    "         meta:\n",
    "              source_type: kafka\n",
    "              source_format: csv\n",
    "              url: <kafka server>:9092                                                <<<\n",
    "              topic: tutorial_client_<xxxx_xxxxxx>_trip_table11                       <<<\n",
    "              offset: latest\n",
    "              streaming_window: 2 seconds\n",
    "              preprocessor: com.elevo.preprocessors.ElevoFEDefaultCsvPreprocessor\n"
   ]
  },
  {
   "cell_type": "code",
   "execution_count": null,
   "id": "977e3b7f-280f-435f-912f-c26f11feccf3",
   "metadata": {},
   "outputs": [],
   "source": [
    "!cat ~/tutorial/examples/trip_fare_prediction_model_3/trip_fare_data_sources_3.yml"
   ]
  },
  {
   "cell_type": "markdown",
   "id": "437ca3dd-bf01-4803-a4d9-cd8c8c438c32",
   "metadata": {},
   "source": [
    "#### Add column schema to your data sources file\n",
    "\n",
    "Foresight can automatically infer column schema from your data sources and update the ML sources file. Use the `add columns` command to automatically infer and update the ML sources file with the data source column schema. After this command completes, you must review the column schema for correctness and if necessary edit the ML sources file to fix column names or data types. Alternatively you may manually edit the ML sources file and add all the column names and data types to match your data source schema."
   ]
  },
  {
   "cell_type": "code",
   "execution_count": null,
   "id": "d1db48e0-6b44-40ac-9168-443f3411e475",
   "metadata": {},
   "outputs": [],
   "source": [
    "add columns trip_fare_data_sources_3.yml"
   ]
  },
  {
   "cell_type": "code",
   "execution_count": null,
   "id": "fa2f8d5b-862b-4e24-99ab-3fe07fd1cafd",
   "metadata": {},
   "outputs": [],
   "source": [
    "!cat ~/tutorial/examples/trip_fare_prediction_model_3/trip_fare_data_sources_3.yml"
   ]
  },
  {
   "cell_type": "markdown",
   "id": "a0da76ce-14e0-48d0-b705-23496eb2ef8a",
   "metadata": {},
   "source": [
    "If you are using the Foresight ML sources file from this tutorial, copy it to your project location using the `cp` command in the cell below."
   ]
  },
  {
   "cell_type": "code",
   "execution_count": null,
   "id": "d604643e-f6f1-4c34-956a-342a6ba82931",
   "metadata": {},
   "outputs": [],
   "source": [
    "!cp ~/tutorial/examples/trip_fare_prediction_model_3/trip_fare_data_sources_3.yml ~/projects/trip_fare/"
   ]
  },
  {
   "cell_type": "markdown",
   "id": "f8b0d9e7-cf1d-4426-9c8b-a54b34e98c80",
   "metadata": {
    "tags": []
   },
   "source": [
    "***\n",
    "\n",
    "# Create a Feature Set for real-time aggregated features\n",
    "\n",
    "<html><img src=\"3_2.png\"/></html>\n",
    "\n",
    "In this step we will create a feature set to generate and store aggregated features in Elevo storage based on the real-time data source. Remember that the real-time contextual feature that we are trying to generate is\n",
    "- the total passenger count in the last 4 hours for any zipcode\n",
    "\n",
    "To generate this feature, the feature set needs to compute the sum aggregate of the passenger_count for all trips, grouped by the pickup_zipcode. In SQL terms the query looks like this,\n",
    "\n",
    "SELECT SUM(passenger_count) FROM \\<source data\\> GROUP BY pickup_zipcode \n",
    "\n",
    "### Create a Foresight ML job file to generate a feature set\n",
    "\n",
    "The feature set will be created using a Foresight ML job file. The `using_elevo_options` section of the Foresight ML job file is where you specify the SQL aggregation function and the GROUP BY entities. Create a Foresight ML job file using the templates and code snippets available at the icons to the left. Refer to the Elevo Foresight User Manual for help.\n",
    "\n",
    "\n",
    "Alternatively you may view and copy the Foresight ML job file from this tutorial to your project location using the `cp` command in the cells below."
   ]
  },
  {
   "cell_type": "code",
   "execution_count": null,
   "id": "abe6de03-a88b-4df2-865f-a4d172ab8ec0",
   "metadata": {},
   "outputs": [],
   "source": [
    "!cat ~/tutorial/examples/trip_fare_prediction_model_3/trip_events_context.ml"
   ]
  },
  {
   "cell_type": "code",
   "execution_count": null,
   "id": "0507227a-6cf7-4d18-be28-ac01fb761744",
   "metadata": {},
   "outputs": [],
   "source": [
    "!cp ~/tutorial/examples/trip_fare_prediction_model_3/trip_events_context.ml ~/projects/trip_fare/"
   ]
  },
  {
   "cell_type": "markdown",
   "id": "3625c187-b52a-42ca-a1b1-f81e81af0070",
   "metadata": {
    "tags": []
   },
   "source": [
    "### Create a feature set\n",
    "\n",
    "Use the `start featureset` command to execute the Foresight ML job file to create the feature set. This command will start a job that creates the feature set tables within Elevo, and fetches data into the Elevo tables from the data source. The job will perform aggregations on the data as it is being fetched. It will fetch data from the historical backfill source as well as the real-time streaming source. The job continues to run forever as the data source is a real-time kafka stream. The `status featureset` command will show the status of the feature set.\n"
   ]
  },
  {
   "cell_type": "code",
   "execution_count": null,
   "id": "6fb00fcc-ca17-41c4-a690-639f54846662",
   "metadata": {},
   "outputs": [],
   "source": [
    "start featureset trip_events_context"
   ]
  },
  {
   "cell_type": "code",
   "execution_count": null,
   "id": "b5194775-d4ad-4982-8a12-a9d7bc02a0e0",
   "metadata": {},
   "outputs": [],
   "source": [
    "status featureset trip_events_context"
   ]
  },
  {
   "cell_type": "markdown",
   "id": "54851315-21ef-4264-9999-a14686f07bfd",
   "metadata": {
    "tags": []
   },
   "source": [
    "***\n",
    "\n",
    "# Create a Feature View to serve contextual features\n",
    "\n",
    "<html><img src=\"3_3.png\"/></html>\n",
    "\n",
    "In the Model 2 example we created a feature view to serve four contextual features from Elevo Foresight feature sets. In this step we will create a feature view to serve those four contextual features as well as a fifth real-time contextual feature from the feature set that we just created. The feature view will output the following contextual features\n",
    "- the hourly_segment for a given hour of day\n",
    "- the holiday_or_weekend flag for a given date\n",
    "- the pickup_geo_area for a given pickup zipcode\n",
    "- the dropoff_geo_area for a given dropoff zipcode\n",
    "- the total passenger count in the last 4 hours for a given zipcode\n",
    "\n",
    "### Create a Foresight ML job file to generate a feature view\n",
    "\n",
    "The feature view will be created using a Foresight ML job file. The `using_elevo_options` section of the Foresight ML job file is where you specify the aggregated feature name and the window for aggregation.  Create a Foresight ML job file using the templates and code snippets available at the icons to the left. Refer to the Elevo Foresight User Manual for help.\n",
    "\n",
    "\n",
    "Alternatively you may view and copy the Foresight ML job file from this tutorial to your project location using the `cp` command in the cells below."
   ]
  },
  {
   "cell_type": "code",
   "execution_count": null,
   "id": "d8368d02-d5ec-4525-94f4-00f3f8db6d15",
   "metadata": {},
   "outputs": [],
   "source": [
    "!cat ~/tutorial/examples/trip_fare_prediction_model_3/trip_feature_view_3.ml"
   ]
  },
  {
   "cell_type": "code",
   "execution_count": null,
   "id": "0a95acfa-def9-4a99-b7ab-aca8d3bcca51",
   "metadata": {},
   "outputs": [],
   "source": [
    "!cp ~/tutorial/examples/trip_fare_prediction_model_3/trip_feature_view_3.ml ~/projects/trip_fare/"
   ]
  },
  {
   "cell_type": "markdown",
   "id": "19619eb6-ec12-48e3-a186-fb38def94d7d",
   "metadata": {
    "tags": []
   },
   "source": [
    "### Start serving contextual features\n",
    "\n",
    "Use the `start featureview` command to execute the Foresight ML job file to start serving contextual features for the feature view. This command starts a job to serve the feature view. Use the `offline` option to serve features for training dataset creation and the `online` option to serve features for prediction. \n",
    "\n",
    "The `status featureview` command will show the status of the feature view. The *`feature_status`* element indicates the availability of feature data. A feature status of \"OK\" indicates that feature data is available. A feature status of \"DATA_NOT_READY\" indicates that data is still being fetched from historical or stream sources and is not up-to-date for consumption.\n",
    "\n",
    "**It may take up to 10 minutes for the *`feature_status`* to show \"OK\" due to the size and duration of the historical feature data.** If the feature status shows **\"DATA_NOT_READY\"** that means the historical data is still being fetched and processed. The data has not reached the current time. The user must wait till the feature status shows \"OK\" before proceeding to the next steps."
   ]
  },
  {
   "cell_type": "code",
   "execution_count": null,
   "id": "91ddd220-1673-453f-ae6f-5dbe5f76269f",
   "metadata": {},
   "outputs": [],
   "source": [
    "start featureview trip_feature_view_3,offline"
   ]
  },
  {
   "cell_type": "code",
   "execution_count": null,
   "id": "6bff9239-019a-4655-aaa9-c9c24ceff24b",
   "metadata": {},
   "outputs": [],
   "source": [
    "start featureview trip_feature_view_3,online"
   ]
  },
  {
   "cell_type": "code",
   "execution_count": null,
   "id": "347f1ba8-bff2-4092-96b3-622af6b7a369",
   "metadata": {},
   "outputs": [],
   "source": [
    "status featureview trip_feature_view_3,offline"
   ]
  },
  {
   "cell_type": "code",
   "execution_count": null,
   "id": "25a2966c-3dc1-4608-a6fa-5c8ca2fb20fe",
   "metadata": {},
   "outputs": [],
   "source": [
    "status featureview trip_feature_view_3,online"
   ]
  },
  {
   "cell_type": "markdown",
   "id": "ff4e3273-0b68-4c89-97f1-e714e2c57e31",
   "metadata": {},
   "source": [
    "### Explore feature sets and feature views\n",
    "\n",
    "Explore the feature sets and feature views that you created using `Foresight Explorer`. The `Foresight Explorer` tool can be opened by clicking on the following icon in the Launcher page. \n",
    "\n",
    "<html><img src=\"3_7.png\"/></html>\n",
    "\n",
    "Navigate to the `Foresight Explorer` web page and open the `trip_fare` project. Explore the feature sets and feature views within that project."
   ]
  },
  {
   "cell_type": "markdown",
   "id": "e75e5d1e-d9db-4a76-8695-12edb92848a6",
   "metadata": {
    "tags": []
   },
   "source": [
    "***\n",
    "\n",
    "# Create a Training Dataset\n",
    "\n",
    "<html><img src=\"3_4.png\"/></html>\n",
    "\n",
    "In this step we will create a training dataset using the trip table data source and the contextual features. We will use the pickup_zipcode, dropoff_zipcode and passenger_count as input features to the ML model. We will use the ***contextual_feature_fetch*** UDF to fetch the hourly_segment, the is_holiday_or_weekend flag and the total_passenger_count_4hr from the feature view and use those as additional inputs to the ML model. The fare_amount will be the target or label for the ML model to train. \n",
    "\n",
    "### Create a Foresight ML job file to generate a training dataset\n",
    "\n",
    "The training dataset will be created using a SQL command. SQL commands can be executed via Foresight ML job files. Create a Foresight ML job file using the templates and code snippets available at the icons to the left. Refer to the Elevo Foresight User Manual for help.\n",
    "Alternatively you may view and copy the Foresight ML job file from this tutorial to your project location using the `cp` command in the cells below."
   ]
  },
  {
   "cell_type": "code",
   "execution_count": null,
   "id": "2349d4a3-a439-4eb8-9c84-83a5f3615001",
   "metadata": {},
   "outputs": [],
   "source": [
    "!cat ~/tutorial/examples/trip_fare_prediction_model_3/trip_fare_train_dataset_3.ml"
   ]
  },
  {
   "cell_type": "code",
   "execution_count": null,
   "id": "94316a1c-c816-48e5-a7c7-8020ba46680c",
   "metadata": {},
   "outputs": [],
   "source": [
    "!cp ~/tutorial/examples/trip_fare_prediction_model_3/trip_fare_train_dataset_3.ml ~/projects/trip_fare/"
   ]
  },
  {
   "cell_type": "markdown",
   "id": "350c9e01-ffb1-4b3f-9930-e14948ac272d",
   "metadata": {
    "tags": []
   },
   "source": [
    "### Create the dataset\n",
    "\n",
    "Use the `create dataset` command to execute the Foresight ML job file to create the training dataset in Elevo. The `list datasets` command will list the created datasets within a project. The `display dataset` command will display the first few rows of the training dataset.\n",
    "\n",
    "**This command may take up to 10 minutes due to the size of the dataset.**"
   ]
  },
  {
   "cell_type": "code",
   "execution_count": null,
   "id": "94f111f8-f5a2-456d-bda9-d2d847f94ce4",
   "metadata": {},
   "outputs": [],
   "source": [
    "create dataset trip_fare_train_dataset_3"
   ]
  },
  {
   "cell_type": "code",
   "execution_count": null,
   "id": "6740aeed-884e-4d2f-a01b-2fac41f7748a",
   "metadata": {},
   "outputs": [],
   "source": [
    "list datasets"
   ]
  },
  {
   "cell_type": "code",
   "execution_count": null,
   "id": "2eacdcf3-0d4d-49ee-9602-8d71edb477fb",
   "metadata": {},
   "outputs": [],
   "source": [
    "display dataset trip_fare_train_dataset_3"
   ]
  },
  {
   "cell_type": "markdown",
   "id": "51fc29bb-2a49-4019-a6c0-7662029996a0",
   "metadata": {
    "tags": []
   },
   "source": [
    "### Explore the dataset\n",
    "\n",
    "Use the `explore dataset` command to visually explore the dataset using the Elevo Foresight data explorer. The `target_column` is the target or label for ML training. Click on the output url to visualize the dataset.\n",
    "\n",
    "**This command may take a few minutes due to the size of the dataset.**"
   ]
  },
  {
   "cell_type": "code",
   "execution_count": null,
   "id": "4259d6de-f90e-4821-97a6-3c25c646354f",
   "metadata": {},
   "outputs": [],
   "source": [
    "explore dataset trip_fare_train_dataset_3,datetime_column=pickup_datetime,target_column=fare_amount"
   ]
  },
  {
   "cell_type": "markdown",
   "id": "2d20eae0-9027-4a1a-a225-041328c49443",
   "metadata": {
    "tags": []
   },
   "source": [
    "***\n",
    "\n",
    "# Train an ML Model\n",
    "\n",
    "<html><img src=\"3_5.png\"/></html>\n",
    "\n",
    "In this step we will train an ML model using the training dataset that was created. We will use the pickup_zipcode, dropoff_zipcode, passenger_count, distance, hourly_segment, is_holiday_or_weekend, and total_passenger_count_4hr as input features to the ML model. The fare_amount will be the target or label for the ML model to train. \n",
    "\n",
    "### Create a Foresight ML job file for model training\n",
    "\n",
    "ML model training is initiated via a Foresight ML job file which specifies the ML training parameters. Create a Foresight ML job file using the templates and code snippets available at the icons to the left. Refer to the Elevo Foresight User Manual for help.\n",
    "Alternatively you may view and copy the Foresight ML job file frorm this tutorial to your project location using the `cp` command in the cells below."
   ]
  },
  {
   "cell_type": "code",
   "execution_count": null,
   "id": "e7f28c5d-6ed0-4174-a685-7a65f1d5a9db",
   "metadata": {},
   "outputs": [],
   "source": [
    "!cat ~/tutorial/examples/trip_fare_prediction_model_3/trip_fare_model_train_3.ml"
   ]
  },
  {
   "cell_type": "code",
   "execution_count": null,
   "id": "97012e3a-c4bb-48f7-ab9a-a740049323c6",
   "metadata": {},
   "outputs": [],
   "source": [
    "!cp ~/tutorial/examples/trip_fare_prediction_model_3/trip_fare_model_train_3.ml ~/projects/trip_fare/"
   ]
  },
  {
   "cell_type": "markdown",
   "id": "51aba791-a8ab-4372-a9ab-f5f5179afc33",
   "metadata": {
    "tags": []
   },
   "source": [
    "### Start ML model training\n",
    "\n",
    "Use the `start training` command to execute the Foresight ML job file to start the model training in Elevo. The `status training` command will show the status of the model training. \n",
    "\n",
    "**Click the url shown in the output to open a *TensorBoard* session that displays the training progress and metrics.** After opening the *TensorBoard* url click on the reload button to the top right of the *TensorBoard* page."
   ]
  },
  {
   "cell_type": "code",
   "execution_count": null,
   "id": "dbfcd1f5-f6d3-40ea-ad6b-354b6ade890f",
   "metadata": {},
   "outputs": [],
   "source": [
    "start training trip_fare_model_train_3"
   ]
  },
  {
   "cell_type": "code",
   "execution_count": null,
   "id": "38ed29a5-bb9a-483a-b6e1-f974278f8d25",
   "metadata": {},
   "outputs": [],
   "source": [
    "list tensorboard trip_fare_model_3,1"
   ]
  },
  {
   "cell_type": "markdown",
   "id": "e1f11cfb-c660-44ce-aa49-a2c5738cf340",
   "metadata": {
    "tags": []
   },
   "source": [
    "#### Wait for ML model training to complete\n",
    "\n",
    "Use the `status training` command to check the status of the model training. Wait for the ML model training status to complete. \n",
    "\n",
    "**Training could take 10 minutes or more to complete.**"
   ]
  },
  {
   "cell_type": "code",
   "execution_count": null,
   "id": "af65730c-34c6-4ffc-91d8-070e1ae5de3d",
   "metadata": {
    "tags": []
   },
   "outputs": [],
   "source": [
    "status training trip_fare_model_train_3"
   ]
  },
  {
   "cell_type": "markdown",
   "id": "264c64e0-6d42-43fa-8662-30db6edc846d",
   "metadata": {
    "tags": []
   },
   "source": [
    "## Register a trained ML model\n",
    "\n",
    "After the training is complete, the `status training` command will show COMPLETED status. The trained ML model must be registered before it can be used for predictions. The `list trained-models` command will list all the trained models within a project. The `register model` command will register a trained model. The `list registered-models` will list all registered models within a project."
   ]
  },
  {
   "cell_type": "code",
   "execution_count": null,
   "id": "96ba25e6-2e65-4c22-8579-b4ad311a876a",
   "metadata": {},
   "outputs": [],
   "source": [
    "list trained-models trip_fare_model_3"
   ]
  },
  {
   "cell_type": "code",
   "execution_count": null,
   "id": "322694fd-722e-4e6e-bc1f-879705d943b3",
   "metadata": {},
   "outputs": [],
   "source": [
    "register model trip_fare_model_3,1,PRODUCTION"
   ]
  },
  {
   "cell_type": "code",
   "execution_count": null,
   "id": "560f2743-780b-4741-9be3-1188333783f5",
   "metadata": {},
   "outputs": [],
   "source": [
    "list registered-models"
   ]
  },
  {
   "cell_type": "markdown",
   "id": "c510b4eb-2662-41f1-8436-78ad0008267b",
   "metadata": {
    "tags": []
   },
   "source": [
    "***\n",
    "\n",
    "# Serve an ML Model\n",
    "\n",
    "<html><img src=\"3_6.png\"/></html>\n",
    "\n",
    "In this step we will deploy the trained ML model to serve prediction requests. \n",
    "\n",
    "### Create a Foresight ML job file for model serving\n",
    "\n",
    "ML models are deployed via a Foresight ML job file which specifies the ML serving options. Create a Foresight ML job file using the templates and code snippets available at the icons to the left. Refer to the Elevo Foresight User Manual for help.\n",
    "Make sure to create another prediction Foresight ML sources file to match your ML job file. You will need to add a REST source for the prediction REST response. You will need to add a prediction log table definition.\n",
    "\n",
    "Alternatively you may view and copy the Foresight ML job file and ML sources file from this tutorial to your project location using the `cp` command in the cells below."
   ]
  },
  {
   "cell_type": "code",
   "execution_count": null,
   "id": "a16da3d6-1af5-4ace-83d9-e6350248e444",
   "metadata": {},
   "outputs": [],
   "source": [
    "!cat ~/tutorial/examples/trip_fare_prediction_model_3/trip_fare_model_serve_3.ml"
   ]
  },
  {
   "cell_type": "code",
   "execution_count": null,
   "id": "68c7a144-1406-456a-ad5f-e5496b52d91d",
   "metadata": {},
   "outputs": [],
   "source": [
    "!cat ~/tutorial/examples/trip_fare_prediction_model_3/trip_fare_prediction_sources_3.yml"
   ]
  },
  {
   "cell_type": "code",
   "execution_count": null,
   "id": "b6dd0220-5076-43e2-b6d3-efb7b1eb3608",
   "metadata": {},
   "outputs": [],
   "source": [
    "!cp ~/tutorial/examples/trip_fare_prediction_model_3/trip_fare_model_serve_3.ml ~/projects/trip_fare/"
   ]
  },
  {
   "cell_type": "code",
   "execution_count": null,
   "id": "97947122-8ca4-4772-aa9a-4b6379ecbf63",
   "metadata": {},
   "outputs": [],
   "source": [
    "!cp ~/tutorial/examples/trip_fare_prediction_model_3/trip_fare_prediction_sources_3.yml ~/projects/trip_fare/"
   ]
  },
  {
   "cell_type": "markdown",
   "id": "696496ab-5c55-41d3-a12e-fd05fa6bfe55",
   "metadata": {
    "tags": []
   },
   "source": [
    "### Deploy the model\n",
    "\n",
    "Use the `start prediction` command to execute the Foresight ML job file to deploy a model in Elevo. The `status prediction` command will show the status of the model serving. The url shown in the output is the endpoint to which REST prediction request may be sent via `curl` or some other means."
   ]
  },
  {
   "cell_type": "code",
   "execution_count": null,
   "id": "ccac28df-f7d2-4735-973a-5970e022e242",
   "metadata": {},
   "outputs": [],
   "source": [
    "start prediction trip_fare_model_serve_3"
   ]
  },
  {
   "cell_type": "code",
   "execution_count": null,
   "id": "65b8bd8c-cf09-4e34-b9d7-6a26dcf76b29",
   "metadata": {},
   "outputs": [],
   "source": [
    "status prediction trip_fare_model_serve_3"
   ]
  },
  {
   "cell_type": "markdown",
   "id": "135c7bda-0300-4d39-bf09-beb615d54031",
   "metadata": {
    "tags": []
   },
   "source": [
    "## Predict trip fare amounts\n",
    "\n",
    "Use the `curl` command to send prediction requests to the deployed model via the serving url shown above. Change the http url in the two cells below to match the url shown above and execute the `curl` commands."
   ]
  },
  {
   "attachments": {},
   "cell_type": "markdown",
   "id": "7c5b7725",
   "metadata": {},
   "source": [
    "For predictions, get the current datetime by executing the cell below and use that datetime as the pickup_datetime value in the prediction curl request"
   ]
  },
  {
   "cell_type": "code",
   "execution_count": null,
   "id": "cdb8eb00",
   "metadata": {},
   "outputs": [],
   "source": [
    "!date -u +'\"pickup_datetime\":\"%Y-%m-%d %H:%M:%S\", \"hour_of_day\":\"%H\", \"calendar_day\":\"%Y-%m-%d\"'"
   ]
  },
  {
   "cell_type": "code",
   "execution_count": null,
   "id": "86ed0cf8-a3ad-4235-b0aa-6c79fb9b7c67",
   "metadata": {},
   "outputs": [],
   "source": [
    "!curl -X GET http://<use url info from above status prediction cmd> -H \"Content-Type: application/json\" -d \\\n",
    "'[{\"pickup_datetime\": \"2022-10-27 08:39:00\", \"hour_of_day\": 8, \"calendar_day\": \"2022-10-27\", \"pickup_latitude\": \"40.7514\", \"pickup_longitude\": \"-73.994\", \"dropoff_latitude\": \"40.7599\", \"dropoff_longitude\": \"-73.9795\", \"pickup_zipcode\": \"10001\", \"dropoff_zipcode\": \"10111\", \"passenger_count\": 2}]'"
   ]
  },
  {
   "cell_type": "code",
   "execution_count": null,
   "id": "ec1b59ed-f884-455a-b970-dd877bb0ab33",
   "metadata": {},
   "outputs": [],
   "source": [
    "!curl -X GET http://<use url info from above status prediction cmd> -H \"Content-Type: application/json\" -d \\\n",
    "'[{\"pickup_datetime\": \"2022-10-27 18:57:00\", \"hour_of_day\": 18, \"calendar_day\": \"2022-10-27\", \"pickup_latitude\": \"40.754\", \"pickup_longitude\": \"-73.9721\", \"dropoff_latitude\": \"40.7296\", \"dropoff_longitude\": \"-73.987\", \"pickup_zipcode\": \"10017\", \"dropoff_zipcode\": \"10003\", \"passenger_count\": 1}]'"
   ]
  },
  {
   "cell_type": "markdown",
   "id": "771a8163-8c80-41aa-817d-32f9ab2cd6ac",
   "metadata": {
    "tags": []
   },
   "source": [
    "### Stop the deployed model\n",
    "\n",
    "Use the `stop prediction` command to stop ML model serving when you have completed the prediction requests. This step is optional, you may choose to leave the model deployed."
   ]
  },
  {
   "cell_type": "code",
   "execution_count": null,
   "id": "5cc34309-d166-410c-9c1b-bfb1d5cab6be",
   "metadata": {},
   "outputs": [],
   "source": [
    "stop prediction trip_fare_model_serve_3"
   ]
  }
 ],
 "metadata": {
  "kernelspec": {
   "display_name": "Foresight",
   "language": "python",
   "name": "foresight"
  },
  "language_info": {
   "file_extension": ".py",
   "mimetype": "text/plain",
   "name": "python"
  }
 },
 "nbformat": 4,
 "nbformat_minor": 5
}
