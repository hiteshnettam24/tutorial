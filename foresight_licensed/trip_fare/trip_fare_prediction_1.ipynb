{
 "cells": [
  {
   "cell_type": "markdown",
   "id": "93f77938-7669-4c71-aabe-49ecd7316e2e",
   "metadata": {
    "tags": []
   },
   "source": [
    "***\n",
    "\n",
    "# Taxi Trip Fare Prediction - Model 1\n",
    "\n",
    "***\n",
    "\n",
    "The goal of this example is to train and serve a taxi trip fare prediction model. We will\n",
    "- train an ML model based on historical taxi trip fare data\n",
    "- serve the ML model to predict the trip fare for new trips\n",
    "\n",
    "### Prepare your data\n",
    "\n",
    "The trip table is a csv file containing information about taxi trips. First we will download the csv file and peek at a few lines of data. The data includes the pickup datetime, pickup latitude, longitude, dropoff latitude, longitude, pickup and dropoff zipcodes, passenger count and fare amount. We will download the csv using `wget` and print the first few lines using the `head` command."
   ]
  },
  {
   "cell_type": "code",
   "execution_count": null,
   "id": "b0b1d441-55e2-4485-a09e-f09c2f614c8b",
   "metadata": {},
   "outputs": [],
   "source": [
    "!wget \"https://foresight-tutorial.s3.us-west-2.amazonaws.com/trip_fare/trip_table.csv\""
   ]
  },
  {
   "cell_type": "code",
   "execution_count": null,
   "id": "7e8efe60-ac78-4415-bce7-935ffb7c205f",
   "metadata": {},
   "outputs": [],
   "source": [
    "!head -n 5 trip_table.csv"
   ]
  },
  {
   "cell_type": "markdown",
   "id": "f77d47a6-5599-4b4e-9e97-84ffeb6d12b8",
   "metadata": {
    "tags": []
   },
   "source": [
    "### Upload your data\n",
    "\n",
    "We will use MySQL as the data source for the trip table. We will upload the csv file to a MySQL server and connect that MySQL server to the Elevo platform. Use `mysql-load-csv.py` to upload a csv file to the MySQL server. The `-b` option specifies the IP address of the MySQL server. The `-u` and `-p` options specify the  MySQL username and password. The `-i` option specifies the input csv file name. The `-k` option specifies the MySQL table name. The `-m` option specifies the MySQL index column names. The `-n` option specifies the MySQL primary key column names. The `-g` option obtains the MySQL server credentials. The `-h` option displays help.\n",
    "\n",
    "Note the `mysql source meta` from the upload output. It will be used later to connect MySQL to the Elevo platform."
   ]
  },
  {
   "cell_type": "code",
   "execution_count": null,
   "id": "3f041c1b-0161-477f-8f2a-04b4d0ebaba5",
   "metadata": {},
   "outputs": [],
   "source": [
    "!mysql-load-csv.py -b <mysql host> -u '<mysql user>' -p '<mysql password>' -i trip_table.csv -k trip_table -m pickup_datetime -n 'pickup_datetime,pickup_longitude,pickup_latitude,dropoff_longitude,dropoff_latitude'"
   ]
  },
  {
   "cell_type": "code",
   "execution_count": null,
   "id": "19f5a877-250f-43e3-a2aa-b231b45cde50",
   "metadata": {},
   "outputs": [],
   "source": [
    "!mysql-load-csv.py -b <mysql host> -u '<mysql user>' -p '<mysql password>' -g"
   ]
  },
  {
   "cell_type": "markdown",
   "id": "9ba9202f-a04e-4ba1-81b4-95f18f447397",
   "metadata": {
    "tags": []
   },
   "source": [
    "***\n",
    "\n",
    "### Create a Foresight project\n",
    "\n",
    "We will create a project called `trip_fare` for this tutorial."
   ]
  },
  {
   "cell_type": "code",
   "execution_count": null,
   "id": "2423ef58-cbcc-4bfe-ae22-a79699bbc5bf",
   "metadata": {},
   "outputs": [],
   "source": [
    "create project trip_fare"
   ]
  },
  {
   "attachments": {},
   "cell_type": "markdown",
   "id": "1664147e-01c5-4fd6-9ffe-1c1fffed8238",
   "metadata": {
    "tags": []
   },
   "source": [
    "***\n",
    "\n",
    "# Connect your Data Sources\n",
    "\n",
    "<html><img src=\"../../images/trip_fare_images/1_1.png\"/></html>\n",
    "\n",
    "In this step we will connect the MySQL data source to Elevo. This will allow Elevo to read the trip table from the MySQL server."
   ]
  },
  {
   "cell_type": "markdown",
   "id": "16f0afe6-4d93-4a30-91c2-f464486c1a75",
   "metadata": {
    "tags": []
   },
   "source": [
    "### Create a Foresight ML sources file\n",
    "\n",
    "Data sources are connected to Elevo via a Foresight ML sources file. Create a Foresight ML sources file using the templates and code snippets available at the icons to the left. Refer to the  Elevo Foresight User Manual for help. The MySQL server credentials must be specified in the sources file.\n",
    "Alternatively you may use the Foresight ML sources file from this tutorial.\n",
    "\n",
    "**Make sure you update the Foresight ML sources file with the correct MySQL server url address and user credentials obtained from the *\"Upload your data\"* step above.**\n",
    "<br>The relevant section in the `trip_fare_data_sources.yml` file looks like this:\n",
    "    \n",
    "            meta:\n",
    "              source_type: mysql\n",
    "              source_format: jdbc\n",
    "              url: jdbc:mysql://<mysql host>:3306/tutorial_client_<xxxx_xxxxxx>       <<<\n",
    "              user: <mysql user>                                                      <<<\n",
    "              password: <mysql password>                                              <<<\n",
    "              driver: com.mysql.jdbc.Driver"
   ]
  },
  {
   "cell_type": "code",
   "execution_count": null,
   "id": "977e3b7f-280f-435f-912f-c26f11feccf3",
   "metadata": {},
   "outputs": [],
   "source": [
    "!cat trip_fare_data_sources.yml"
   ]
  },
  {
   "cell_type": "markdown",
   "id": "f314ff9d-6c34-424d-bd5d-83edfcc03c99",
   "metadata": {},
   "source": [
    "#### Add column schema to your data sources file\n",
    "\n",
    "Foresight can automatically infer column schema from your data sources and update the ML sources file. Use the `add columns` command to automatically infer and update the ML sources file with the data source column schema. After this command completes, you must review the column schema for correctness and if necessary edit the ML sources file to fix column names or data types. Alternatively you may manually edit the ML sources file and add all the column names and data types to match your data source schema."
   ]
  },
  {
   "cell_type": "code",
   "execution_count": null,
   "id": "d2d8a413-2398-41e7-a46b-aaa434d1c256",
   "metadata": {},
   "outputs": [],
   "source": [
    "add columns trip_fare_data_sources.yml"
   ]
  },
  {
   "cell_type": "code",
   "execution_count": null,
   "id": "9a12765b-905a-4107-8a41-b038db459d7f",
   "metadata": {},
   "outputs": [],
   "source": [
    "!cat trip_fare_data_sources.yml"
   ]
  },
  {
   "attachments": {},
   "cell_type": "markdown",
   "id": "e75e5d1e-d9db-4a76-8695-12edb92848a6",
   "metadata": {
    "tags": []
   },
   "source": [
    "***\n",
    "\n",
    "# Create a Training Dataset\n",
    "\n",
    "<html><img src=\"../../images/trip_fare_images/1_2.png\"/></html>\n",
    "\n",
    "In this step we will create a training dataset using the trip table data source. We will use the pickup_zipcode, dropoff_zipcode and passenger_count as input features to the ML model and thus import these features into training dataset from mysql table along with the fare_amount which will be the target or label for the ML model to train. \n",
    "\n",
    "### Create a Foresight ML job file to generate a training dataset\n",
    "\n",
    "The training dataset will be created using a SQL command. SQL commands can be executed via Foresight ML job files. Create a Foresight ML job file using the templates and code snippets available at the icons to the left. Refer to the Elevo Foresight User Manual for help."
   ]
  },
  {
   "cell_type": "code",
   "execution_count": null,
   "id": "2349d4a3-a439-4eb8-9c84-83a5f3615001",
   "metadata": {},
   "outputs": [],
   "source": [
    "!cat trip_fare_prediction_model_1/trip_fare_1_train_dataset.ml"
   ]
  },
  {
   "cell_type": "markdown",
   "id": "350c9e01-ffb1-4b3f-9930-e14948ac272d",
   "metadata": {
    "tags": []
   },
   "source": [
    "### Create the dataset\n",
    "\n",
    "Use the `create dataset` command to execute the Foresight ML job file to create the training dataset in Elevo. The `list datasets` command will list the created datasets within a project. The `display dataset` command will display the first few rows of the training dataset.\n",
    "\n",
    "**This command may take up to 10 minutes due to the size of the dataset.**"
   ]
  },
  {
   "cell_type": "code",
   "execution_count": null,
   "id": "fa24e7cb",
   "metadata": {},
   "outputs": [],
   "source": [
    "create dataset trip_fare_prediction_model_1/trip_fare_1_train_dataset"
   ]
  },
  {
   "cell_type": "code",
   "execution_count": null,
   "id": "94f111f8-f5a2-456d-bda9-d2d847f94ce4",
   "metadata": {},
   "outputs": [],
   "source": [
    "create dataset trip_fare_prediction_model_1/trip_fare_1_train_dataset_small"
   ]
  },
  {
   "cell_type": "code",
   "execution_count": null,
   "id": "6740aeed-884e-4d2f-a01b-2fac41f7748a",
   "metadata": {},
   "outputs": [],
   "source": [
    "list datasets"
   ]
  },
  {
   "cell_type": "code",
   "execution_count": null,
   "id": "9e423b78",
   "metadata": {},
   "outputs": [],
   "source": [
    "display dataset trip_fare_1_train_dataset"
   ]
  },
  {
   "cell_type": "markdown",
   "id": "36c4dadf-7205-4485-b8c1-1c5c09a3e899",
   "metadata": {
    "tags": []
   },
   "source": [
    "### Explore the dataset\n",
    "\n",
    "Use the `explore dataset` command to visually explore the dataset using the Elevo Foresight data explorer. The `target_column` is the target or label for ML training. Click on the output url to visualize the dataset.\n",
    "\n",
    "**This command may take a few minutes due to the size of the dataset.**"
   ]
  },
  {
   "cell_type": "code",
   "execution_count": null,
   "id": "dff043ba-0506-4d63-96ec-6d0d9c37662e",
   "metadata": {},
   "outputs": [],
   "source": [
    "explore dataset trip_fare_1_train_dataset,datetime_column=pickup_datetime,target_column=fare_amount"
   ]
  },
  {
   "attachments": {},
   "cell_type": "markdown",
   "id": "2d20eae0-9027-4a1a-a225-041328c49443",
   "metadata": {
    "tags": []
   },
   "source": [
    "***\n",
    "\n",
    "# Train an ML Model\n",
    "\n",
    "<html><img src=\"../../images/trip_fare_images/1_3.png\"/></html>\n",
    "\n",
    "In this step we will train an ML model using the training dataset that was created. We will use the pickup_zipcode, dropoff_zipcode and passenger_count as input features to the ML model. The fare_amount will be the target or label for the ML model to train. \n",
    "\n",
    "### Create a Foresight ML job file for model training\n",
    "\n",
    "ML model training is initiated via a Foresight ML job file which specifies the ML training parameters. Create a Foresight ML job file using the templates and code snippets available at the icons to the left. Refer to the Elevo Foresight User Manual for help."
   ]
  },
  {
   "cell_type": "markdown",
   "id": "51aba791-a8ab-4372-a9ab-f5f5179afc33",
   "metadata": {
    "tags": []
   },
   "source": [
    "### Start ML model training\n",
    "\n",
    "Use the `start training` command to execute the Foresight ML job file to start the model training in Elevo. The `status training` command will show the status of the model training. "
   ]
  },
  {
   "cell_type": "markdown",
   "id": "383b0047-04c6-46cb-bd74-249d80baaf4d",
   "metadata": {},
   "source": [
    "There are 2 different ways to train a model in Foresight -\n",
    "\n",
    "1\\.Machine Learning: Uses machine learning models to accomplish supervised and unsupervised learning tasks with models like linear regression, logistic regression, random forests, etc. \n",
    "\n",
    "2\\.Deep Learning: Uses neural network based models like cnn, lstm and rnn."
   ]
  },
  {
   "cell_type": "markdown",
   "id": "a44215cf-2d11-44d1-95dc-227b562db30e",
   "metadata": {
    "tags": []
   },
   "source": [
    "### Machine Learning"
   ]
  },
  {
   "cell_type": "markdown",
   "id": "a2875255-1d1b-4396-83af-16304f739194",
   "metadata": {},
   "source": [
    "Training using Machine Learning models to predict 'fare_amount'. Auto-ML behind the scenes selects best model after running through different machine learning models available for regression tasks."
   ]
  },
  {
   "cell_type": "code",
   "execution_count": null,
   "id": "e7f28c5d-6ed0-4174-a685-7a65f1d5a9db",
   "metadata": {},
   "outputs": [],
   "source": [
    "!cat trip_fare_prediction_model_1/trip_fare_1_ml_model_train.ml"
   ]
  },
  {
   "cell_type": "code",
   "execution_count": null,
   "id": "e344840d-b95e-4fdb-8db6-676751ae443c",
   "metadata": {},
   "outputs": [],
   "source": [
    "start training trip_fare_prediction_model_1/trip_fare_1_ml_model_train"
   ]
  },
  {
   "cell_type": "markdown",
   "id": "4ed90d4b-6cb8-413a-b198-f4df72d2d2fb",
   "metadata": {},
   "source": [
    "**Click the url shown in the output of status to open a *ML-Flow* session that displays the training metrics.**"
   ]
  },
  {
   "cell_type": "markdown",
   "id": "54ba23af-35db-4bca-a3c8-9548beb3ce09",
   "metadata": {
    "tags": []
   },
   "source": [
    "#### Wait for ML model training to complete\n",
    "\n",
    "Use the `status training` command to check the status of the model training. Wait for the ML model training status to complete. "
   ]
  },
  {
   "cell_type": "markdown",
   "id": "14fe4333-e6da-45a3-8058-9d5d605b4678",
   "metadata": {},
   "source": [
    "**Training could take 10 minutes or more to complete.**"
   ]
  },
  {
   "cell_type": "code",
   "execution_count": null,
   "id": "1bac5d0d-ea54-4744-a9c9-be74b7797ec7",
   "metadata": {},
   "outputs": [],
   "source": [
    "status training trip_fare_1_ml_model_train"
   ]
  },
  {
   "cell_type": "markdown",
   "id": "5b361a7b-0888-413f-992d-a69c4468c184",
   "metadata": {},
   "source": [
    "### Deep Learning"
   ]
  },
  {
   "cell_type": "markdown",
   "id": "6e8f2b0f-732b-45c8-8d63-376d0fe444ba",
   "metadata": {},
   "source": [
    "Training using Deep Learning models to predict 'fare_amount'. Auto-ML behind the scenes selects a cnn architecture to create the model."
   ]
  },
  {
   "cell_type": "code",
   "execution_count": null,
   "id": "9d8f7ff8-0990-40cd-baea-389d016f26fc",
   "metadata": {},
   "outputs": [],
   "source": [
    "!cat trip_fare_prediction_model_1/trip_fare_1_dl_model_train.ml"
   ]
  },
  {
   "cell_type": "code",
   "execution_count": null,
   "id": "dbfcd1f5-f6d3-40ea-ad6b-354b6ade890f",
   "metadata": {},
   "outputs": [],
   "source": [
    "start training trip_fare_prediction_model_1/trip_fare_1_dl_model_train"
   ]
  },
  {
   "cell_type": "markdown",
   "id": "15956ddf-0cd9-42eb-8e14-f4991a2c3181",
   "metadata": {},
   "source": [
    "**Click the url shown in the output to open a *TensorBoard* session that displays the training progress and metrics.** After opening the *TensorBoard* url click on the reload button to the top right of the *TensorBoard* page."
   ]
  },
  {
   "cell_type": "markdown",
   "id": "7bcd355d-8d6e-4ba0-bae8-f8cb6c5651af",
   "metadata": {
    "tags": []
   },
   "source": [
    "**Training could take 10 minutes or more to complete.**"
   ]
  },
  {
   "cell_type": "code",
   "execution_count": null,
   "id": "af65730c-34c6-4ffc-91d8-070e1ae5de3d",
   "metadata": {
    "tags": []
   },
   "outputs": [],
   "source": [
    "status training trip_fare_1_dl_model_train"
   ]
  },
  {
   "cell_type": "markdown",
   "id": "adc4d1c2-cfbf-4fc3-a710-37a372b2606a",
   "metadata": {
    "tags": []
   },
   "source": [
    "#### Note:\n",
    " TensorBoard is only available for Deep Learning models   "
   ]
  },
  {
   "cell_type": "code",
   "execution_count": null,
   "id": "cb827f8a-9533-4964-a45c-4b3a893b94c3",
   "metadata": {},
   "outputs": [],
   "source": [
    "list tensorboard <model name>,<run_id>"
   ]
  },
  {
   "cell_type": "markdown",
   "id": "264c64e0-6d42-43fa-8662-30db6edc846d",
   "metadata": {
    "tags": []
   },
   "source": [
    "## Register a trained ML model\n",
    "After the training is complete, the `status training` command will show COMPLETED status. The trained ML model must be registered before it can be used for predictions. The `list trained-models` command will list all the trained models within a project. The `register model` command will register a trained model. The `list registered-models` will list all registered models within a project."
   ]
  },
  {
   "cell_type": "markdown",
   "id": "6eae551e-7c88-44ce-b268-537ab4f510ca",
   "metadata": {
    "tags": []
   },
   "source": [
    "##### To list all the ML models that have been trained"
   ]
  },
  {
   "cell_type": "code",
   "execution_count": null,
   "id": "96ba25e6-2e65-4c22-8579-b4ad311a876a",
   "metadata": {},
   "outputs": [],
   "source": [
    "list trained-models trip_fare_1_ml_model"
   ]
  },
  {
   "cell_type": "markdown",
   "id": "305d8a8b-09f5-457e-bd03-8f480b27e6b5",
   "metadata": {
    "tags": []
   },
   "source": [
    "##### To list all the DL models that have been trained"
   ]
  },
  {
   "cell_type": "code",
   "execution_count": null,
   "id": "44a28765-1a55-4b5f-b073-bf0d910047d2",
   "metadata": {},
   "outputs": [],
   "source": [
    "list trained-models trip_fare_1_dl_model"
   ]
  },
  {
   "cell_type": "markdown",
   "id": "cf2016aa-e0a6-4da4-a7fd-0af759f785af",
   "metadata": {
    "tags": []
   },
   "source": [
    "##### Run this cell to register the machine learning model"
   ]
  },
  {
   "cell_type": "code",
   "execution_count": null,
   "id": "322694fd-722e-4e6e-bc1f-879705d943b3",
   "metadata": {},
   "outputs": [],
   "source": [
    "register model trip_fare_1_ml_model,1,PRODUCTION"
   ]
  },
  {
   "cell_type": "markdown",
   "id": "1da78f59-f556-4707-808d-0bb18c2d1445",
   "metadata": {
    "tags": []
   },
   "source": [
    "##### Run this cell to register the deep learning model"
   ]
  },
  {
   "cell_type": "code",
   "execution_count": null,
   "id": "1686fc76-4f5b-4a4a-b0e9-668d52a19bb6",
   "metadata": {},
   "outputs": [],
   "source": [
    "register model trip_fare_1_dl_model,1,PRODUCTION"
   ]
  },
  {
   "cell_type": "markdown",
   "id": "03f41ea6-ff20-449f-8118-7e32c2f01a44",
   "metadata": {},
   "source": [
    "#### To list all registered models"
   ]
  },
  {
   "cell_type": "code",
   "execution_count": null,
   "id": "560f2743-780b-4741-9be3-1188333783f5",
   "metadata": {},
   "outputs": [],
   "source": [
    "list registered-models"
   ]
  },
  {
   "attachments": {},
   "cell_type": "markdown",
   "id": "c510b4eb-2662-41f1-8436-78ad0008267b",
   "metadata": {
    "tags": []
   },
   "source": [
    "***\n",
    "\n",
    "# Serve an ML Model\n",
    "\n",
    "<html><img src=\"../../images/trip_fare_images/1_4.png\"/></html>\n",
    "\n",
    "In this step we will deploy a trained ML model to serve prediction requests. \n",
    "\n",
    "### Create a Foresight ML job file for model serving\n",
    "\n",
    "ML models are deployed via a Foresight ML job file which specifies the ML serving options. \n",
    "\n",
    "Create a Foresight ML job file using the registered-model version that you want to serve. \n",
    "\n",
    "The `create prediction` command takes 2 required parameters the registered-model name and the model version. The 'dir' parameter specifies the location where the generated files will be saved. The command will generate 3 files, a Foresight ML job file, a sources yaml and a sample curl command requests file. Refer to the Elevo Foresight User Manual for help.\n",
    "\n",
    "The sources yaml will contain definitions for two REST sources, one for the prediction REST request and one for the prediction REST response and a definition for the prediction log table.\n",
    "\n",
    "**In the command below, replace the version '1' with the version of the registered model you are using.**\n"
   ]
  },
  {
   "cell_type": "markdown",
   "id": "870701ac-b1c5-4b8f-9e4b-0db03669d0a3",
   "metadata": {},
   "source": [
    "In the following cells we have used machine learning models to serve predictions, if you choose to use deep learning model for predictions replace trip_fare_1_ml_model to trip_fare_1_dl_model."
   ]
  },
  {
   "cell_type": "code",
   "execution_count": null,
   "id": "01ddd7a7-65e9-43e8-86fa-0c43ac0fc6bd",
   "metadata": {
    "tags": []
   },
   "outputs": [],
   "source": [
    "create prediction trip_fare_1_ml_model,1,dir=trip_fare_prediction_model_1/"
   ]
  },
  {
   "cell_type": "markdown",
   "id": "ffdf6d5c-a0bd-4915-9ed5-f9f2a56f610f",
   "metadata": {},
   "source": [
    "***\n",
    "\n",
    "### Inspect the model serving files\n",
    "\n",
    "Inspect the model serving ML job file and the definitions for the prediction REST request, prediction REST response and the prediction log table.\n",
    "\n",
    "**Note: The generated files names have the model version number as shown below. In the commands below, replace the version '1' with the version of the registered model you are using.**\n",
    "\n",
    "    Example : <model name>_<version>_serve.ml , <model name>_<version>_sources.yml\n",
    "\n",
    "    "
   ]
  },
  {
   "cell_type": "code",
   "execution_count": null,
   "id": "a16da3d6-1af5-4ace-83d9-e6350248e444",
   "metadata": {},
   "outputs": [],
   "source": [
    "!cat trip_fare_prediction_model_1/trip_fare_1_ml_model_1_serve.ml"
   ]
  },
  {
   "cell_type": "code",
   "execution_count": null,
   "id": "a7e25b92-ada0-4a72-8b52-a319457e0782",
   "metadata": {},
   "outputs": [],
   "source": [
    "!cat trip_fare_prediction_model_1/trip_fare_1_ml_model_1_sources.yml"
   ]
  },
  {
   "cell_type": "markdown",
   "id": "696496ab-5c55-41d3-a12e-fd05fa6bfe55",
   "metadata": {
    "tags": []
   },
   "source": [
    "### Deploy the model\n",
    "\n",
    "Use the `start prediction` command to execute the Foresight ML job file to deploy a model in Elevo. The `status prediction` command will show the status of the model serving. The url shown in the output is the endpoint to which REST prediction request may be sent via `curl` or some other means."
   ]
  },
  {
   "cell_type": "code",
   "execution_count": null,
   "id": "ccac28df-f7d2-4735-973a-5970e022e242",
   "metadata": {},
   "outputs": [],
   "source": [
    "start prediction trip_fare_prediction_model_1/trip_fare_1_ml_model_1_serve"
   ]
  },
  {
   "cell_type": "code",
   "execution_count": null,
   "id": "65b8bd8c-cf09-4e34-b9d7-6a26dcf76b29",
   "metadata": {},
   "outputs": [],
   "source": [
    "status prediction trip_fare_1_ml_model_1_serve"
   ]
  },
  {
   "cell_type": "markdown",
   "id": "135c7bda-0300-4d39-bf09-beb615d54031",
   "metadata": {
    "tags": []
   },
   "source": [
    "## Predict trip fare amounts\n",
    "\n",
    "Use the `test prediction` command to send prediction requests to the deployed model. The command by default uses the last 10 rows from the training dataset for prediction request data and sends curl requests to the deployed model. The predictions responses are collected and displayed.\n",
    "\n",
    "Refer to the Elevo Foresight User Manual for help."
   ]
  },
  {
   "cell_type": "code",
   "execution_count": null,
   "id": "8d95404a",
   "metadata": {},
   "outputs": [],
   "source": [
    "test prediction trip_fare_1_ml_model_1_serve"
   ]
  },
  {
   "cell_type": "markdown",
   "id": "1e13a5f0-0e68-4329-a432-384d62ac18dc",
   "metadata": {},
   "source": [
    "### Stop the deployed model\n",
    "\n",
    "Use the `stop prediction` command to stop ML model serving when you have completed the prediction requests. This step is optional, you may choose to leave the model deployed."
   ]
  },
  {
   "cell_type": "code",
   "execution_count": null,
   "id": "252a5bfd-28ee-4c22-a5e7-5c641f2a801d",
   "metadata": {},
   "outputs": [],
   "source": [
    "stop prediction trip_fare_1_ml_model_1_serve"
   ]
  }
 ],
 "metadata": {
  "kernelspec": {
   "display_name": "Foresight",
   "language": "python",
   "name": "foresight"
  },
  "language_info": {
   "file_extension": ".py",
   "mimetype": "text/plain",
   "name": "python"
  }
 },
 "nbformat": 4,
 "nbformat_minor": 5
}
